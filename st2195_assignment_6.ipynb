{
 "cells": [
  {
   "cell_type": "markdown",
   "id": "266033a0",
   "metadata": {},
   "source": [
    "# Practice Assignment 6"
   ]
  },
  {
   "cell_type": "markdown",
   "id": "5cbf7ea6",
   "metadata": {},
   "source": [
    "## 1. Load and merge the dataset\n",
    "### keeping all information available for the dates in which there is a measurement in 'fx.csv'."
   ]
  },
  {
   "cell_type": "code",
   "execution_count": 1,
   "id": "83cf2367",
   "metadata": {},
   "outputs": [],
   "source": [
    "import pandas as pd"
   ]
  },
  {
   "cell_type": "markdown",
   "id": "3ac57e36",
   "metadata": {},
   "source": [
    "Loading \"speeches.csv\" into data frame. \n",
    "We want to keep only the \"date\" and \"contents\" columns.\n",
    "Merging multiple rows for the same day in \"speeches\"."
   ]
  },
  {
   "cell_type": "code",
   "execution_count": 2,
   "id": "e8b9eb4c",
   "metadata": {},
   "outputs": [
    {
     "data": {
      "text/html": [
       "<div>\n",
       "<style scoped>\n",
       "    .dataframe tbody tr th:only-of-type {\n",
       "        vertical-align: middle;\n",
       "    }\n",
       "\n",
       "    .dataframe tbody tr th {\n",
       "        vertical-align: top;\n",
       "    }\n",
       "\n",
       "    .dataframe thead th {\n",
       "        text-align: right;\n",
       "    }\n",
       "</style>\n",
       "<table border=\"1\" class=\"dataframe\">\n",
       "  <thead>\n",
       "    <tr style=\"text-align: right;\">\n",
       "      <th></th>\n",
       "      <th>date</th>\n",
       "      <th>contents</th>\n",
       "    </tr>\n",
       "  </thead>\n",
       "  <tbody>\n",
       "    <tr>\n",
       "      <th>0</th>\n",
       "      <td>1997-02-07</td>\n",
       "      <td>Conference organised by the Hungarian Bankin...</td>\n",
       "    </tr>\n",
       "    <tr>\n",
       "      <th>1</th>\n",
       "      <td>1997-03-10</td>\n",
       "      <td>Securing the benefits of EMU   Address by Al...</td>\n",
       "    </tr>\n",
       "    <tr>\n",
       "      <th>2</th>\n",
       "      <td>1997-04-22</td>\n",
       "      <td>Convergence and the role of the European Cen...</td>\n",
       "    </tr>\n",
       "    <tr>\n",
       "      <th>3</th>\n",
       "      <td>1997-04-30</td>\n",
       "      <td>The operation of monetary policy in stage th...</td>\n",
       "    </tr>\n",
       "    <tr>\n",
       "      <th>4</th>\n",
       "      <td>1997-05-13</td>\n",
       "      <td>The European Central Bank: independent and a...</td>\n",
       "    </tr>\n",
       "    <tr>\n",
       "      <th>...</th>\n",
       "      <td>...</td>\n",
       "      <td>...</td>\n",
       "    </tr>\n",
       "    <tr>\n",
       "      <th>1922</th>\n",
       "      <td>2021-11-22</td>\n",
       "      <td>SPEECH  Ralph Koijen’s contribution to rese...</td>\n",
       "    </tr>\n",
       "    <tr>\n",
       "      <th>1923</th>\n",
       "      <td>2021-11-24</td>\n",
       "      <td>SPEECH  Patient monetary policy amid a rock...</td>\n",
       "    </tr>\n",
       "    <tr>\n",
       "      <th>1924</th>\n",
       "      <td>2021-11-25</td>\n",
       "      <td>SPEECH  When you need change to preserve co...</td>\n",
       "    </tr>\n",
       "    <tr>\n",
       "      <th>1925</th>\n",
       "      <td>2021-11-26</td>\n",
       "      <td>SPEECH  Change and continuity in law   Keyn...</td>\n",
       "    </tr>\n",
       "    <tr>\n",
       "      <th>1926</th>\n",
       "      <td>2021-11-29</td>\n",
       "      <td>SPEECH  Dialogue in a changing world   Lect...</td>\n",
       "    </tr>\n",
       "  </tbody>\n",
       "</table>\n",
       "<p>1927 rows × 2 columns</p>\n",
       "</div>"
      ],
      "text/plain": [
       "            date                                           contents\n",
       "0     1997-02-07    Conference organised by the Hungarian Bankin...\n",
       "1     1997-03-10    Securing the benefits of EMU   Address by Al...\n",
       "2     1997-04-22    Convergence and the role of the European Cen...\n",
       "3     1997-04-30    The operation of monetary policy in stage th...\n",
       "4     1997-05-13    The European Central Bank: independent and a...\n",
       "...          ...                                                ...\n",
       "1922  2021-11-22     SPEECH  Ralph Koijen’s contribution to rese...\n",
       "1923  2021-11-24     SPEECH  Patient monetary policy amid a rock...\n",
       "1924  2021-11-25     SPEECH  When you need change to preserve co...\n",
       "1925  2021-11-26     SPEECH  Change and continuity in law   Keyn...\n",
       "1926  2021-11-29     SPEECH  Dialogue in a changing world   Lect...\n",
       "\n",
       "[1927 rows x 2 columns]"
      ]
     },
     "execution_count": 2,
     "metadata": {},
     "output_type": "execute_result"
    }
   ],
   "source": [
    "speeches = pd.read_csv(\"speeches.csv\", sep='|', usecols=['date','contents'])\n",
    "speeches.dropna(inplace=True)\n",
    "speeches = speeches.groupby(\"date\")['contents'].apply(lambda x: \" \".join(x.astype(str))).reset_index()\n",
    "speeches"
   ]
  },
  {
   "cell_type": "markdown",
   "id": "d144efb0",
   "metadata": {},
   "source": [
    "Loading \"fx.csv\" into data frame."
   ]
  },
  {
   "cell_type": "code",
   "execution_count": 3,
   "id": "319972e3",
   "metadata": {},
   "outputs": [
    {
     "data": {
      "text/html": [
       "<div>\n",
       "<style scoped>\n",
       "    .dataframe tbody tr th:only-of-type {\n",
       "        vertical-align: middle;\n",
       "    }\n",
       "\n",
       "    .dataframe tbody tr th {\n",
       "        vertical-align: top;\n",
       "    }\n",
       "\n",
       "    .dataframe thead th {\n",
       "        text-align: right;\n",
       "    }\n",
       "</style>\n",
       "<table border=\"1\" class=\"dataframe\">\n",
       "  <thead>\n",
       "    <tr style=\"text-align: right;\">\n",
       "      <th></th>\n",
       "      <th>date</th>\n",
       "      <th>exchange_rate</th>\n",
       "    </tr>\n",
       "  </thead>\n",
       "  <tbody>\n",
       "    <tr>\n",
       "      <th>0</th>\n",
       "      <td>2021-12-03</td>\n",
       "      <td>1.1291</td>\n",
       "    </tr>\n",
       "    <tr>\n",
       "      <th>1</th>\n",
       "      <td>2021-12-02</td>\n",
       "      <td>1.1339</td>\n",
       "    </tr>\n",
       "    <tr>\n",
       "      <th>2</th>\n",
       "      <td>2021-12-01</td>\n",
       "      <td>1.1314</td>\n",
       "    </tr>\n",
       "    <tr>\n",
       "      <th>3</th>\n",
       "      <td>2021-11-30</td>\n",
       "      <td>1.1363</td>\n",
       "    </tr>\n",
       "    <tr>\n",
       "      <th>4</th>\n",
       "      <td>2021-11-29</td>\n",
       "      <td>1.1276</td>\n",
       "    </tr>\n",
       "    <tr>\n",
       "      <th>...</th>\n",
       "      <td>...</td>\n",
       "      <td>...</td>\n",
       "    </tr>\n",
       "    <tr>\n",
       "      <th>5927</th>\n",
       "      <td>1999-01-08</td>\n",
       "      <td>1.1659</td>\n",
       "    </tr>\n",
       "    <tr>\n",
       "      <th>5928</th>\n",
       "      <td>1999-01-07</td>\n",
       "      <td>1.1632</td>\n",
       "    </tr>\n",
       "    <tr>\n",
       "      <th>5929</th>\n",
       "      <td>1999-01-06</td>\n",
       "      <td>1.1743</td>\n",
       "    </tr>\n",
       "    <tr>\n",
       "      <th>5930</th>\n",
       "      <td>1999-01-05</td>\n",
       "      <td>1.1790</td>\n",
       "    </tr>\n",
       "    <tr>\n",
       "      <th>5931</th>\n",
       "      <td>1999-01-04</td>\n",
       "      <td>1.1789</td>\n",
       "    </tr>\n",
       "  </tbody>\n",
       "</table>\n",
       "<p>5932 rows × 2 columns</p>\n",
       "</div>"
      ],
      "text/plain": [
       "            date  exchange_rate\n",
       "0     2021-12-03         1.1291\n",
       "1     2021-12-02         1.1339\n",
       "2     2021-12-01         1.1314\n",
       "3     2021-11-30         1.1363\n",
       "4     2021-11-29         1.1276\n",
       "...          ...            ...\n",
       "5927  1999-01-08         1.1659\n",
       "5928  1999-01-07         1.1632\n",
       "5929  1999-01-06         1.1743\n",
       "5930  1999-01-05         1.1790\n",
       "5931  1999-01-04         1.1789\n",
       "\n",
       "[5932 rows x 2 columns]"
      ]
     },
     "execution_count": 3,
     "metadata": {},
     "output_type": "execute_result"
    }
   ],
   "source": [
    "fx = pd.read_csv(\"fx.csv\", skiprows=4, na_values=['-']) #'-' to recognize na_values\n",
    "fx.columns = [\"date\",\"exchange_rate\"]\n",
    "fx"
   ]
  },
  {
   "cell_type": "markdown",
   "id": "718d409a",
   "metadata": {},
   "source": [
    "Merging the data together."
   ]
  },
  {
   "cell_type": "code",
   "execution_count": 5,
   "id": "1d233005",
   "metadata": {
    "scrolled": true
   },
   "outputs": [
    {
     "data": {
      "text/html": [
       "<div>\n",
       "<style scoped>\n",
       "    .dataframe tbody tr th:only-of-type {\n",
       "        vertical-align: middle;\n",
       "    }\n",
       "\n",
       "    .dataframe tbody tr th {\n",
       "        vertical-align: top;\n",
       "    }\n",
       "\n",
       "    .dataframe thead th {\n",
       "        text-align: right;\n",
       "    }\n",
       "</style>\n",
       "<table border=\"1\" class=\"dataframe\">\n",
       "  <thead>\n",
       "    <tr style=\"text-align: right;\">\n",
       "      <th></th>\n",
       "      <th>exchange_rate</th>\n",
       "      <th>contents</th>\n",
       "    </tr>\n",
       "    <tr>\n",
       "      <th>date</th>\n",
       "      <th></th>\n",
       "      <th></th>\n",
       "    </tr>\n",
       "  </thead>\n",
       "  <tbody>\n",
       "    <tr>\n",
       "      <th>2021-12-03</th>\n",
       "      <td>1.1291</td>\n",
       "      <td>NaN</td>\n",
       "    </tr>\n",
       "    <tr>\n",
       "      <th>2021-12-02</th>\n",
       "      <td>1.1339</td>\n",
       "      <td>NaN</td>\n",
       "    </tr>\n",
       "    <tr>\n",
       "      <th>2021-12-01</th>\n",
       "      <td>1.1314</td>\n",
       "      <td>NaN</td>\n",
       "    </tr>\n",
       "    <tr>\n",
       "      <th>2021-11-30</th>\n",
       "      <td>1.1363</td>\n",
       "      <td>NaN</td>\n",
       "    </tr>\n",
       "    <tr>\n",
       "      <th>2021-11-29</th>\n",
       "      <td>1.1276</td>\n",
       "      <td>SPEECH  Dialogue in a changing world   Lect...</td>\n",
       "    </tr>\n",
       "    <tr>\n",
       "      <th>...</th>\n",
       "      <td>...</td>\n",
       "      <td>...</td>\n",
       "    </tr>\n",
       "    <tr>\n",
       "      <th>1999-01-08</th>\n",
       "      <td>1.1659</td>\n",
       "      <td>NaN</td>\n",
       "    </tr>\n",
       "    <tr>\n",
       "      <th>1999-01-07</th>\n",
       "      <td>1.1632</td>\n",
       "      <td>NaN</td>\n",
       "    </tr>\n",
       "    <tr>\n",
       "      <th>1999-01-06</th>\n",
       "      <td>1.1743</td>\n",
       "      <td>NaN</td>\n",
       "    </tr>\n",
       "    <tr>\n",
       "      <th>1999-01-05</th>\n",
       "      <td>1.1790</td>\n",
       "      <td>NaN</td>\n",
       "    </tr>\n",
       "    <tr>\n",
       "      <th>1999-01-04</th>\n",
       "      <td>1.1789</td>\n",
       "      <td>NaN</td>\n",
       "    </tr>\n",
       "  </tbody>\n",
       "</table>\n",
       "<p>5932 rows × 2 columns</p>\n",
       "</div>"
      ],
      "text/plain": [
       "            exchange_rate                                           contents\n",
       "date                                                                        \n",
       "2021-12-03         1.1291                                                NaN\n",
       "2021-12-02         1.1339                                                NaN\n",
       "2021-12-01         1.1314                                                NaN\n",
       "2021-11-30         1.1363                                                NaN\n",
       "2021-11-29         1.1276     SPEECH  Dialogue in a changing world   Lect...\n",
       "...                   ...                                                ...\n",
       "1999-01-08         1.1659                                                NaN\n",
       "1999-01-07         1.1632                                                NaN\n",
       "1999-01-06         1.1743                                                NaN\n",
       "1999-01-05         1.1790                                                NaN\n",
       "1999-01-04         1.1789                                                NaN\n",
       "\n",
       "[5932 rows x 2 columns]"
      ]
     },
     "execution_count": 5,
     "metadata": {},
     "output_type": "execute_result"
    }
   ],
   "source": [
    "df = pd.merge(fx, speeches, how='left')\n",
    "df['date'] = pd.to_datetime(df['date'])\n",
    "df.set_index('date', inplace= True) #no index, data modified in place\n",
    "df"
   ]
  },
  {
   "cell_type": "markdown",
   "id": "4b177df0",
   "metadata": {},
   "source": [
    "## 2. Remove entries with obvious outliers or mistakes"
   ]
  },
  {
   "cell_type": "markdown",
   "id": "d3c89e74",
   "metadata": {},
   "source": [
    "We first see if there is any obvious outliers or mistakes by plotting the data:"
   ]
  },
  {
   "cell_type": "code",
   "execution_count": 10,
   "id": "85797cdc",
   "metadata": {
    "scrolled": false
   },
   "outputs": [
    {
     "data": {
      "text/plain": [
       "<AxesSubplot:xlabel='date', ylabel='EUR/USD reference exchange rate'>"
      ]
     },
     "execution_count": 10,
     "metadata": {},
     "output_type": "execute_result"
    },
    {
     "data": {
      "image/png": "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\n",
      "text/plain": [
       "<Figure size 432x288 with 1 Axes>"
      ]
     },
     "metadata": {
      "needs_background": "light"
     },
     "output_type": "display_data"
    }
   ],
   "source": [
    "df.plot(kind=\"line\", xlabel=\"date\", ylabel=\"EUR/USD reference exchange rate\")"
   ]
  },
  {
   "cell_type": "markdown",
   "id": "15f2df86",
   "metadata": {},
   "source": [
    "And look at the summary statistics:"
   ]
  },
  {
   "cell_type": "code",
   "execution_count": 11,
   "id": "5361ac31",
   "metadata": {
    "scrolled": false
   },
   "outputs": [
    {
     "data": {
      "text/html": [
       "<div>\n",
       "<style scoped>\n",
       "    .dataframe tbody tr th:only-of-type {\n",
       "        vertical-align: middle;\n",
       "    }\n",
       "\n",
       "    .dataframe tbody tr th {\n",
       "        vertical-align: top;\n",
       "    }\n",
       "\n",
       "    .dataframe thead th {\n",
       "        text-align: right;\n",
       "    }\n",
       "</style>\n",
       "<table border=\"1\" class=\"dataframe\">\n",
       "  <thead>\n",
       "    <tr style=\"text-align: right;\">\n",
       "      <th></th>\n",
       "      <th>exchange_rate</th>\n",
       "    </tr>\n",
       "  </thead>\n",
       "  <tbody>\n",
       "    <tr>\n",
       "      <th>count</th>\n",
       "      <td>5870.000000</td>\n",
       "    </tr>\n",
       "    <tr>\n",
       "      <th>mean</th>\n",
       "      <td>1.199170</td>\n",
       "    </tr>\n",
       "    <tr>\n",
       "      <th>std</th>\n",
       "      <td>0.159168</td>\n",
       "    </tr>\n",
       "    <tr>\n",
       "      <th>min</th>\n",
       "      <td>0.825200</td>\n",
       "    </tr>\n",
       "    <tr>\n",
       "      <th>25%</th>\n",
       "      <td>1.102525</td>\n",
       "    </tr>\n",
       "    <tr>\n",
       "      <th>50%</th>\n",
       "      <td>1.198300</td>\n",
       "    </tr>\n",
       "    <tr>\n",
       "      <th>75%</th>\n",
       "      <td>1.316450</td>\n",
       "    </tr>\n",
       "    <tr>\n",
       "      <th>max</th>\n",
       "      <td>1.599000</td>\n",
       "    </tr>\n",
       "  </tbody>\n",
       "</table>\n",
       "</div>"
      ],
      "text/plain": [
       "       exchange_rate\n",
       "count    5870.000000\n",
       "mean        1.199170\n",
       "std         0.159168\n",
       "min         0.825200\n",
       "25%         1.102525\n",
       "50%         1.198300\n",
       "75%         1.316450\n",
       "max         1.599000"
      ]
     },
     "execution_count": 11,
     "metadata": {},
     "output_type": "execute_result"
    }
   ],
   "source": [
    "df.describe()"
   ]
  },
  {
   "cell_type": "markdown",
   "id": "39a56a14",
   "metadata": {},
   "source": [
    "The data does not seem to have obvious outliers or mistakes, but there are 62 missing data."
   ]
  },
  {
   "cell_type": "code",
   "execution_count": 12,
   "id": "079ace3c",
   "metadata": {},
   "outputs": [
    {
     "data": {
      "text/plain": [
       "exchange_rate      62\n",
       "contents         4166\n",
       "dtype: int64"
      ]
     },
     "execution_count": 12,
     "metadata": {},
     "output_type": "execute_result"
    }
   ],
   "source": [
    "df.isna().sum()\n",
    "#for missing exchange rate values, we don't delete it. \n",
    "#use bfill to fill the NA values - fill NA with the previous value"
   ]
  },
  {
   "cell_type": "markdown",
   "id": "d13e9e74",
   "metadata": {},
   "source": [
    "## 3.\tHandle missing observations\n",
    "\n",
    "Fill in the exchange rate with the latest information available.\n",
    "There is no more missing data for exchange rate."
   ]
  },
  {
   "cell_type": "code",
   "execution_count": 13,
   "id": "3e5848a6",
   "metadata": {},
   "outputs": [
    {
     "data": {
      "text/plain": [
       "exchange_rate       0\n",
       "contents         4166\n",
       "dtype: int64"
      ]
     },
     "execution_count": 13,
     "metadata": {},
     "output_type": "execute_result"
    }
   ],
   "source": [
    "df.exchange_rate.fillna(method='bfill', inplace=True)\n",
    "df.isna().sum()"
   ]
  },
  {
   "cell_type": "markdown",
   "id": "17d5e564",
   "metadata": {},
   "source": [
    "\n",
    "## 4. Calculate the exchange rate return\n",
    "\n",
    "Get the return by using the formula: $R_{t} = \\frac{P_{t}-P_{t-1}}{P_{t-1}}$"
   ]
  },
  {
   "cell_type": "code",
   "execution_count": 7,
   "id": "0655f1f1",
   "metadata": {},
   "outputs": [
    {
     "data": {
      "text/plain": [
       "date\n",
       "2021-12-03    1.1291\n",
       "2021-12-02    1.1339\n",
       "2021-12-01    1.1314\n",
       "2021-11-30    1.1363\n",
       "2021-11-29    1.1276\n",
       "               ...  \n",
       "1999-01-08    1.1659\n",
       "1999-01-07    1.1632\n",
       "1999-01-06    1.1743\n",
       "1999-01-05    1.1790\n",
       "1999-01-04    1.1789\n",
       "Name: exchange_rate, Length: 5932, dtype: float64"
      ]
     },
     "execution_count": 7,
     "metadata": {},
     "output_type": "execute_result"
    }
   ],
   "source": [
    "df.exchange_rate"
   ]
  },
  {
   "cell_type": "code",
   "execution_count": 6,
   "id": "1dd7df82",
   "metadata": {},
   "outputs": [
    {
     "data": {
      "text/plain": [
       "date\n",
       "2021-12-03       NaN\n",
       "2021-12-02    0.0048\n",
       "2021-12-01   -0.0025\n",
       "2021-11-30    0.0049\n",
       "2021-11-29   -0.0087\n",
       "               ...  \n",
       "1999-01-08    0.0090\n",
       "1999-01-07   -0.0027\n",
       "1999-01-06    0.0111\n",
       "1999-01-05    0.0047\n",
       "1999-01-04   -0.0001\n",
       "Name: exchange_rate, Length: 5932, dtype: float64"
      ]
     },
     "execution_count": 6,
     "metadata": {},
     "output_type": "execute_result"
    }
   ],
   "source": [
    "df.exchange_rate.diff()  # t-(t+1)"
   ]
  },
  {
   "cell_type": "code",
   "execution_count": 11,
   "id": "f6d98a3a",
   "metadata": {},
   "outputs": [
    {
     "data": {
      "text/plain": [
       "date\n",
       "2021-12-03   -0.0048\n",
       "2021-12-02    0.0025\n",
       "2021-12-01   -0.0049\n",
       "2021-11-30    0.0087\n",
       "2021-11-29   -0.0015\n",
       "               ...  \n",
       "1999-01-08    0.0027\n",
       "1999-01-07   -0.0111\n",
       "1999-01-06   -0.0047\n",
       "1999-01-05    0.0001\n",
       "1999-01-04       NaN\n",
       "Name: exchange_rate, Length: 5932, dtype: float64"
      ]
     },
     "execution_count": 11,
     "metadata": {},
     "output_type": "execute_result"
    }
   ],
   "source": [
    "df.exchange_rate.diff(-1) # t-(t-1)"
   ]
  },
  {
   "cell_type": "code",
   "execution_count": 9,
   "id": "66f42c77",
   "metadata": {
    "scrolled": true
   },
   "outputs": [],
   "source": [
    "df['return'] = df.exchange_rate.diff(-1)/df.exchange_rate"
   ]
  },
  {
   "cell_type": "code",
   "execution_count": 10,
   "id": "acb012ee",
   "metadata": {},
   "outputs": [
    {
     "data": {
      "text/plain": [
       "date\n",
       "2021-12-03   -0.004251\n",
       "2021-12-02    0.002205\n",
       "2021-12-01   -0.004331\n",
       "2021-11-30    0.007656\n",
       "2021-11-29   -0.001330\n",
       "                ...   \n",
       "1999-01-08    0.002316\n",
       "1999-01-07   -0.009543\n",
       "1999-01-06   -0.004002\n",
       "1999-01-05    0.000085\n",
       "1999-01-04         NaN\n",
       "Name: return, Length: 5932, dtype: float64"
      ]
     },
     "execution_count": 10,
     "metadata": {},
     "output_type": "execute_result"
    }
   ],
   "source": [
    "df['return']"
   ]
  },
  {
   "cell_type": "markdown",
   "id": "5767547e",
   "metadata": {},
   "source": [
    "Extend the original dataset with the variables \"good_news\" and \"bad_news\":"
   ]
  },
  {
   "cell_type": "code",
   "execution_count": 18,
   "id": "d9d85346",
   "metadata": {},
   "outputs": [],
   "source": [
    "df['good_news'] = (df['return'] > 0.5/100).astype(int)\n",
    "df['bad_news'] = (df['return'] < -0.5/100).astype(int)"
   ]
  },
  {
   "cell_type": "code",
   "execution_count": 19,
   "id": "cdb74c06",
   "metadata": {
    "scrolled": true
   },
   "outputs": [
    {
     "data": {
      "text/html": [
       "<div>\n",
       "<style scoped>\n",
       "    .dataframe tbody tr th:only-of-type {\n",
       "        vertical-align: middle;\n",
       "    }\n",
       "\n",
       "    .dataframe tbody tr th {\n",
       "        vertical-align: top;\n",
       "    }\n",
       "\n",
       "    .dataframe thead th {\n",
       "        text-align: right;\n",
       "    }\n",
       "</style>\n",
       "<table border=\"1\" class=\"dataframe\">\n",
       "  <thead>\n",
       "    <tr style=\"text-align: right;\">\n",
       "      <th></th>\n",
       "      <th>exchange_rate</th>\n",
       "      <th>contents</th>\n",
       "      <th>return</th>\n",
       "      <th>good_news</th>\n",
       "      <th>bad_news</th>\n",
       "    </tr>\n",
       "    <tr>\n",
       "      <th>date</th>\n",
       "      <th></th>\n",
       "      <th></th>\n",
       "      <th></th>\n",
       "      <th></th>\n",
       "      <th></th>\n",
       "    </tr>\n",
       "  </thead>\n",
       "  <tbody>\n",
       "    <tr>\n",
       "      <th>2021-12-03</th>\n",
       "      <td>1.1291</td>\n",
       "      <td>NaN</td>\n",
       "      <td>-0.004251</td>\n",
       "      <td>0</td>\n",
       "      <td>0</td>\n",
       "    </tr>\n",
       "    <tr>\n",
       "      <th>2021-12-02</th>\n",
       "      <td>1.1339</td>\n",
       "      <td>NaN</td>\n",
       "      <td>0.002205</td>\n",
       "      <td>0</td>\n",
       "      <td>0</td>\n",
       "    </tr>\n",
       "    <tr>\n",
       "      <th>2021-12-01</th>\n",
       "      <td>1.1314</td>\n",
       "      <td>NaN</td>\n",
       "      <td>-0.004331</td>\n",
       "      <td>0</td>\n",
       "      <td>0</td>\n",
       "    </tr>\n",
       "    <tr>\n",
       "      <th>2021-11-30</th>\n",
       "      <td>1.1363</td>\n",
       "      <td>NaN</td>\n",
       "      <td>0.007656</td>\n",
       "      <td>1</td>\n",
       "      <td>0</td>\n",
       "    </tr>\n",
       "    <tr>\n",
       "      <th>2021-11-29</th>\n",
       "      <td>1.1276</td>\n",
       "      <td>SPEECH  Dialogue in a changing world   Lect...</td>\n",
       "      <td>-0.001330</td>\n",
       "      <td>0</td>\n",
       "      <td>0</td>\n",
       "    </tr>\n",
       "    <tr>\n",
       "      <th>...</th>\n",
       "      <td>...</td>\n",
       "      <td>...</td>\n",
       "      <td>...</td>\n",
       "      <td>...</td>\n",
       "      <td>...</td>\n",
       "    </tr>\n",
       "    <tr>\n",
       "      <th>1999-01-08</th>\n",
       "      <td>1.1659</td>\n",
       "      <td>NaN</td>\n",
       "      <td>0.002316</td>\n",
       "      <td>0</td>\n",
       "      <td>0</td>\n",
       "    </tr>\n",
       "    <tr>\n",
       "      <th>1999-01-07</th>\n",
       "      <td>1.1632</td>\n",
       "      <td>NaN</td>\n",
       "      <td>-0.009543</td>\n",
       "      <td>0</td>\n",
       "      <td>1</td>\n",
       "    </tr>\n",
       "    <tr>\n",
       "      <th>1999-01-06</th>\n",
       "      <td>1.1743</td>\n",
       "      <td>NaN</td>\n",
       "      <td>-0.004002</td>\n",
       "      <td>0</td>\n",
       "      <td>0</td>\n",
       "    </tr>\n",
       "    <tr>\n",
       "      <th>1999-01-05</th>\n",
       "      <td>1.1790</td>\n",
       "      <td>NaN</td>\n",
       "      <td>0.000085</td>\n",
       "      <td>0</td>\n",
       "      <td>0</td>\n",
       "    </tr>\n",
       "    <tr>\n",
       "      <th>1999-01-04</th>\n",
       "      <td>1.1789</td>\n",
       "      <td>NaN</td>\n",
       "      <td>NaN</td>\n",
       "      <td>0</td>\n",
       "      <td>0</td>\n",
       "    </tr>\n",
       "  </tbody>\n",
       "</table>\n",
       "<p>5932 rows × 5 columns</p>\n",
       "</div>"
      ],
      "text/plain": [
       "            exchange_rate                                           contents  \\\n",
       "date                                                                           \n",
       "2021-12-03         1.1291                                                NaN   \n",
       "2021-12-02         1.1339                                                NaN   \n",
       "2021-12-01         1.1314                                                NaN   \n",
       "2021-11-30         1.1363                                                NaN   \n",
       "2021-11-29         1.1276     SPEECH  Dialogue in a changing world   Lect...   \n",
       "...                   ...                                                ...   \n",
       "1999-01-08         1.1659                                                NaN   \n",
       "1999-01-07         1.1632                                                NaN   \n",
       "1999-01-06         1.1743                                                NaN   \n",
       "1999-01-05         1.1790                                                NaN   \n",
       "1999-01-04         1.1789                                                NaN   \n",
       "\n",
       "              return  good_news  bad_news  \n",
       "date                                       \n",
       "2021-12-03 -0.004251          0         0  \n",
       "2021-12-02  0.002205          0         0  \n",
       "2021-12-01 -0.004331          0         0  \n",
       "2021-11-30  0.007656          1         0  \n",
       "2021-11-29 -0.001330          0         0  \n",
       "...              ...        ...       ...  \n",
       "1999-01-08  0.002316          0         0  \n",
       "1999-01-07 -0.009543          0         1  \n",
       "1999-01-06 -0.004002          0         0  \n",
       "1999-01-05  0.000085          0         0  \n",
       "1999-01-04       NaN          0         0  \n",
       "\n",
       "[5932 rows x 5 columns]"
      ]
     },
     "execution_count": 19,
     "metadata": {},
     "output_type": "execute_result"
    }
   ],
   "source": [
    "df"
   ]
  },
  {
   "cell_type": "markdown",
   "id": "fdfae949",
   "metadata": {},
   "source": [
    "## 5. Remove the entries for which contents is NA"
   ]
  },
  {
   "cell_type": "code",
   "execution_count": 20,
   "id": "d8aee3c5",
   "metadata": {
    "scrolled": true
   },
   "outputs": [
    {
     "data": {
      "text/html": [
       "<div>\n",
       "<style scoped>\n",
       "    .dataframe tbody tr th:only-of-type {\n",
       "        vertical-align: middle;\n",
       "    }\n",
       "\n",
       "    .dataframe tbody tr th {\n",
       "        vertical-align: top;\n",
       "    }\n",
       "\n",
       "    .dataframe thead th {\n",
       "        text-align: right;\n",
       "    }\n",
       "</style>\n",
       "<table border=\"1\" class=\"dataframe\">\n",
       "  <thead>\n",
       "    <tr style=\"text-align: right;\">\n",
       "      <th></th>\n",
       "      <th>exchange_rate</th>\n",
       "      <th>contents</th>\n",
       "      <th>return</th>\n",
       "      <th>good_news</th>\n",
       "      <th>bad_news</th>\n",
       "    </tr>\n",
       "    <tr>\n",
       "      <th>date</th>\n",
       "      <th></th>\n",
       "      <th></th>\n",
       "      <th></th>\n",
       "      <th></th>\n",
       "      <th></th>\n",
       "    </tr>\n",
       "  </thead>\n",
       "  <tbody>\n",
       "    <tr>\n",
       "      <th>2021-11-29</th>\n",
       "      <td>1.1276</td>\n",
       "      <td>SPEECH  Dialogue in a changing world   Lect...</td>\n",
       "      <td>-0.001330</td>\n",
       "      <td>0</td>\n",
       "      <td>0</td>\n",
       "    </tr>\n",
       "    <tr>\n",
       "      <th>2021-11-26</th>\n",
       "      <td>1.1291</td>\n",
       "      <td>SPEECH  Change and continuity in law   Keyn...</td>\n",
       "      <td>0.006022</td>\n",
       "      <td>1</td>\n",
       "      <td>0</td>\n",
       "    </tr>\n",
       "    <tr>\n",
       "      <th>2021-11-25</th>\n",
       "      <td>1.1223</td>\n",
       "      <td>SPEECH  When you need change to preserve co...</td>\n",
       "      <td>0.001515</td>\n",
       "      <td>0</td>\n",
       "      <td>0</td>\n",
       "    </tr>\n",
       "    <tr>\n",
       "      <th>2021-11-24</th>\n",
       "      <td>1.1206</td>\n",
       "      <td>SPEECH  Patient monetary policy amid a rock...</td>\n",
       "      <td>-0.004730</td>\n",
       "      <td>0</td>\n",
       "      <td>0</td>\n",
       "    </tr>\n",
       "    <tr>\n",
       "      <th>2021-11-22</th>\n",
       "      <td>1.1278</td>\n",
       "      <td>SPEECH  Ralph Koijen’s contribution to rese...</td>\n",
       "      <td>0.000621</td>\n",
       "      <td>0</td>\n",
       "      <td>0</td>\n",
       "    </tr>\n",
       "    <tr>\n",
       "      <th>...</th>\n",
       "      <td>...</td>\n",
       "      <td>...</td>\n",
       "      <td>...</td>\n",
       "      <td>...</td>\n",
       "      <td>...</td>\n",
       "    </tr>\n",
       "    <tr>\n",
       "      <th>1999-01-28</th>\n",
       "      <td>1.1410</td>\n",
       "      <td>The euro - four weeks after the start   Prof...</td>\n",
       "      <td>-0.010429</td>\n",
       "      <td>0</td>\n",
       "      <td>1</td>\n",
       "    </tr>\n",
       "    <tr>\n",
       "      <th>1999-01-25</th>\n",
       "      <td>1.1584</td>\n",
       "      <td>Finnish savers and investors in the euro are...</td>\n",
       "      <td>0.001468</td>\n",
       "      <td>0</td>\n",
       "      <td>0</td>\n",
       "    </tr>\n",
       "    <tr>\n",
       "      <th>1999-01-18</th>\n",
       "      <td>1.1612</td>\n",
       "      <td>Hearing at the European Parliament's Sub-Com...</td>\n",
       "      <td>-0.001206</td>\n",
       "      <td>0</td>\n",
       "      <td>0</td>\n",
       "    </tr>\n",
       "    <tr>\n",
       "      <th>1999-01-15</th>\n",
       "      <td>1.1626</td>\n",
       "      <td>European economic and monetary union - lates...</td>\n",
       "      <td>-0.002322</td>\n",
       "      <td>0</td>\n",
       "      <td>0</td>\n",
       "    </tr>\n",
       "    <tr>\n",
       "      <th>1999-01-14</th>\n",
       "      <td>1.1653</td>\n",
       "      <td>The euro has arrived   Speech by the Preside...</td>\n",
       "      <td>-0.007809</td>\n",
       "      <td>0</td>\n",
       "      <td>1</td>\n",
       "    </tr>\n",
       "  </tbody>\n",
       "</table>\n",
       "<p>1762 rows × 5 columns</p>\n",
       "</div>"
      ],
      "text/plain": [
       "            exchange_rate                                           contents  \\\n",
       "date                                                                           \n",
       "2021-11-29         1.1276     SPEECH  Dialogue in a changing world   Lect...   \n",
       "2021-11-26         1.1291     SPEECH  Change and continuity in law   Keyn...   \n",
       "2021-11-25         1.1223     SPEECH  When you need change to preserve co...   \n",
       "2021-11-24         1.1206     SPEECH  Patient monetary policy amid a rock...   \n",
       "2021-11-22         1.1278     SPEECH  Ralph Koijen’s contribution to rese...   \n",
       "...                   ...                                                ...   \n",
       "1999-01-28         1.1410    The euro - four weeks after the start   Prof...   \n",
       "1999-01-25         1.1584    Finnish savers and investors in the euro are...   \n",
       "1999-01-18         1.1612    Hearing at the European Parliament's Sub-Com...   \n",
       "1999-01-15         1.1626    European economic and monetary union - lates...   \n",
       "1999-01-14         1.1653    The euro has arrived   Speech by the Preside...   \n",
       "\n",
       "              return  good_news  bad_news  \n",
       "date                                       \n",
       "2021-11-29 -0.001330          0         0  \n",
       "2021-11-26  0.006022          1         0  \n",
       "2021-11-25  0.001515          0         0  \n",
       "2021-11-24 -0.004730          0         0  \n",
       "2021-11-22  0.000621          0         0  \n",
       "...              ...        ...       ...  \n",
       "1999-01-28 -0.010429          0         1  \n",
       "1999-01-25  0.001468          0         0  \n",
       "1999-01-18 -0.001206          0         0  \n",
       "1999-01-15 -0.002322          0         0  \n",
       "1999-01-14 -0.007809          0         1  \n",
       "\n",
       "[1762 rows x 5 columns]"
      ]
     },
     "execution_count": 20,
     "metadata": {},
     "output_type": "execute_result"
    }
   ],
   "source": [
    "df.dropna(inplace=True)\n",
    "df"
   ]
  },
  {
   "cell_type": "markdown",
   "id": "b59ac3b5",
   "metadata": {},
   "source": [
    "## 5a/b. Generate and store `good_indicators` and `bad_indicators`\n",
    "\n",
    "Load in some stop words, which are words that used to form a sentence but does not add much meaning to a sentence. Example of stop words are \"a\", \"the\" \"does\", \"i\", etc. "
   ]
  },
  {
   "cell_type": "code",
   "execution_count": 30,
   "id": "0b94ce30",
   "metadata": {},
   "outputs": [
    {
     "name": "stderr",
     "output_type": "stream",
     "text": [
      "[nltk_data] Downloading package stopwords to\n",
      "[nltk_data]     C:\\Users\\juhyu\\AppData\\Roaming\\nltk_data...\n",
      "[nltk_data]   Unzipping corpora\\stopwords.zip.\n"
     ]
    },
    {
     "data": {
      "text/plain": [
       "{'a',\n",
       " 'about',\n",
       " 'above',\n",
       " 'after',\n",
       " 'again',\n",
       " 'against',\n",
       " 'ain',\n",
       " 'all',\n",
       " 'am',\n",
       " 'an',\n",
       " 'and',\n",
       " 'any',\n",
       " 'are',\n",
       " 'aren',\n",
       " \"aren't\",\n",
       " 'as',\n",
       " 'at',\n",
       " 'be',\n",
       " 'because',\n",
       " 'been',\n",
       " 'before',\n",
       " 'being',\n",
       " 'below',\n",
       " 'between',\n",
       " 'both',\n",
       " 'but',\n",
       " 'by',\n",
       " 'can',\n",
       " 'couldn',\n",
       " \"couldn't\",\n",
       " 'd',\n",
       " 'did',\n",
       " 'didn',\n",
       " \"didn't\",\n",
       " 'do',\n",
       " 'does',\n",
       " 'doesn',\n",
       " \"doesn't\",\n",
       " 'doing',\n",
       " 'don',\n",
       " \"don't\",\n",
       " 'down',\n",
       " 'during',\n",
       " 'each',\n",
       " 'few',\n",
       " 'for',\n",
       " 'from',\n",
       " 'further',\n",
       " 'had',\n",
       " 'hadn',\n",
       " \"hadn't\",\n",
       " 'has',\n",
       " 'hasn',\n",
       " \"hasn't\",\n",
       " 'have',\n",
       " 'haven',\n",
       " \"haven't\",\n",
       " 'having',\n",
       " 'he',\n",
       " 'her',\n",
       " 'here',\n",
       " 'hers',\n",
       " 'herself',\n",
       " 'him',\n",
       " 'himself',\n",
       " 'his',\n",
       " 'how',\n",
       " 'i',\n",
       " 'if',\n",
       " 'in',\n",
       " 'into',\n",
       " 'is',\n",
       " 'isn',\n",
       " \"isn't\",\n",
       " 'it',\n",
       " \"it's\",\n",
       " 'its',\n",
       " 'itself',\n",
       " 'just',\n",
       " 'll',\n",
       " 'm',\n",
       " 'ma',\n",
       " 'me',\n",
       " 'mightn',\n",
       " \"mightn't\",\n",
       " 'more',\n",
       " 'most',\n",
       " 'mustn',\n",
       " \"mustn't\",\n",
       " 'my',\n",
       " 'myself',\n",
       " 'needn',\n",
       " \"needn't\",\n",
       " 'no',\n",
       " 'nor',\n",
       " 'not',\n",
       " 'now',\n",
       " 'o',\n",
       " 'of',\n",
       " 'off',\n",
       " 'on',\n",
       " 'once',\n",
       " 'only',\n",
       " 'or',\n",
       " 'other',\n",
       " 'our',\n",
       " 'ours',\n",
       " 'ourselves',\n",
       " 'out',\n",
       " 'over',\n",
       " 'own',\n",
       " 're',\n",
       " 's',\n",
       " 'same',\n",
       " 'shan',\n",
       " \"shan't\",\n",
       " 'she',\n",
       " \"she's\",\n",
       " 'should',\n",
       " \"should've\",\n",
       " 'shouldn',\n",
       " \"shouldn't\",\n",
       " 'so',\n",
       " 'some',\n",
       " 'such',\n",
       " 't',\n",
       " 'than',\n",
       " 'that',\n",
       " \"that'll\",\n",
       " 'the',\n",
       " 'their',\n",
       " 'theirs',\n",
       " 'them',\n",
       " 'themselves',\n",
       " 'then',\n",
       " 'there',\n",
       " 'these',\n",
       " 'they',\n",
       " 'this',\n",
       " 'those',\n",
       " 'through',\n",
       " 'to',\n",
       " 'too',\n",
       " 'under',\n",
       " 'until',\n",
       " 'up',\n",
       " 've',\n",
       " 'very',\n",
       " 'was',\n",
       " 'wasn',\n",
       " \"wasn't\",\n",
       " 'we',\n",
       " 'were',\n",
       " 'weren',\n",
       " \"weren't\",\n",
       " 'what',\n",
       " 'when',\n",
       " 'where',\n",
       " 'which',\n",
       " 'while',\n",
       " 'who',\n",
       " 'whom',\n",
       " 'why',\n",
       " 'will',\n",
       " 'with',\n",
       " 'won',\n",
       " \"won't\",\n",
       " 'wouldn',\n",
       " \"wouldn't\",\n",
       " 'y',\n",
       " 'you',\n",
       " \"you'd\",\n",
       " \"you'll\",\n",
       " \"you're\",\n",
       " \"you've\",\n",
       " 'your',\n",
       " 'yours',\n",
       " 'yourself',\n",
       " 'yourselves'}"
      ]
     },
     "execution_count": 30,
     "metadata": {},
     "output_type": "execute_result"
    }
   ],
   "source": [
    "#conda install nltk \n",
    "#nltk - natural language organizer\n",
    "#nltk.download('stopwords')\n",
    "\n",
    "import nltk\n",
    "nltk.download('stopwords')\n",
    "from nltk.corpus import stopwords\n",
    "stop_words = set(stopwords.words('english'))\n",
    "stop_words"
   ]
  },
  {
   "cell_type": "markdown",
   "id": "0a9321e7",
   "metadata": {},
   "source": [
    "The function below get the most common words (excluding stop_words) related to `good_news` and `bad_news`:"
   ]
  },
  {
   "cell_type": "code",
   "execution_count": 27,
   "id": "7c660848",
   "metadata": {},
   "outputs": [],
   "source": [
    "import string\n",
    "import collections\n",
    "\n",
    "#tokenizing here\n",
    "\n",
    "#num_words=number of words u want to return\n",
    "def get_word_freq(contents, stop_words, num_words):\n",
    "    freq = dict()    #create a dictionary called \"freq\"\n",
    "    for word in contents.split():\n",
    "        word = word.strip(string.punctuation+'–')\n",
    "        word = word.lower()                            #convert into lower case \n",
    "        if word not in stop_words and len(word):\n",
    "            if word in freq:\n",
    "                #value is the count of the word in the dictionary\n",
    "                freq[word] += 1\n",
    "            else:\n",
    "                freq[word] = 1\n",
    "    freq = dict(sorted(freq.items(), key = lambda item: -item[1]))    #sort in descending order\n",
    "    return list(freq.keys())[:num_words]      #return list from 0 to 19"
   ]
  },
  {
   "cell_type": "markdown",
   "id": "b893348b",
   "metadata": {},
   "source": [
    "Use the function above to get the 20 most common words associated with `good_news` and `bad_news`"
   ]
  },
  {
   "cell_type": "code",
   "execution_count": 31,
   "id": "d038a4d8",
   "metadata": {},
   "outputs": [
    {
     "data": {
      "text/plain": [
       "{'a',\n",
       " 'about',\n",
       " 'above',\n",
       " 'after',\n",
       " 'again',\n",
       " 'against',\n",
       " 'ain',\n",
       " 'all',\n",
       " 'am',\n",
       " 'an',\n",
       " 'and',\n",
       " 'any',\n",
       " 'are',\n",
       " 'aren',\n",
       " \"aren't\",\n",
       " 'as',\n",
       " 'at',\n",
       " 'be',\n",
       " 'because',\n",
       " 'been',\n",
       " 'before',\n",
       " 'being',\n",
       " 'below',\n",
       " 'between',\n",
       " 'both',\n",
       " 'but',\n",
       " 'by',\n",
       " 'can',\n",
       " 'couldn',\n",
       " \"couldn't\",\n",
       " 'd',\n",
       " 'did',\n",
       " 'didn',\n",
       " \"didn't\",\n",
       " 'do',\n",
       " 'does',\n",
       " 'doesn',\n",
       " \"doesn't\",\n",
       " 'doing',\n",
       " 'don',\n",
       " \"don't\",\n",
       " 'down',\n",
       " 'during',\n",
       " 'each',\n",
       " 'few',\n",
       " 'for',\n",
       " 'from',\n",
       " 'further',\n",
       " 'had',\n",
       " 'hadn',\n",
       " \"hadn't\",\n",
       " 'has',\n",
       " 'hasn',\n",
       " \"hasn't\",\n",
       " 'have',\n",
       " 'haven',\n",
       " \"haven't\",\n",
       " 'having',\n",
       " 'he',\n",
       " 'her',\n",
       " 'here',\n",
       " 'hers',\n",
       " 'herself',\n",
       " 'him',\n",
       " 'himself',\n",
       " 'his',\n",
       " 'how',\n",
       " 'i',\n",
       " 'if',\n",
       " 'in',\n",
       " 'into',\n",
       " 'is',\n",
       " 'isn',\n",
       " \"isn't\",\n",
       " 'it',\n",
       " \"it's\",\n",
       " 'its',\n",
       " 'itself',\n",
       " 'just',\n",
       " 'll',\n",
       " 'm',\n",
       " 'ma',\n",
       " 'me',\n",
       " 'mightn',\n",
       " \"mightn't\",\n",
       " 'more',\n",
       " 'most',\n",
       " 'mustn',\n",
       " \"mustn't\",\n",
       " 'my',\n",
       " 'myself',\n",
       " 'needn',\n",
       " \"needn't\",\n",
       " 'no',\n",
       " 'nor',\n",
       " 'not',\n",
       " 'now',\n",
       " 'o',\n",
       " 'of',\n",
       " 'off',\n",
       " 'on',\n",
       " 'once',\n",
       " 'only',\n",
       " 'or',\n",
       " 'other',\n",
       " 'our',\n",
       " 'ours',\n",
       " 'ourselves',\n",
       " 'out',\n",
       " 'over',\n",
       " 'own',\n",
       " 're',\n",
       " 's',\n",
       " 'same',\n",
       " 'shan',\n",
       " \"shan't\",\n",
       " 'she',\n",
       " \"she's\",\n",
       " 'should',\n",
       " \"should've\",\n",
       " 'shouldn',\n",
       " \"shouldn't\",\n",
       " 'so',\n",
       " 'some',\n",
       " 'such',\n",
       " 't',\n",
       " 'than',\n",
       " 'that',\n",
       " \"that'll\",\n",
       " 'the',\n",
       " 'their',\n",
       " 'theirs',\n",
       " 'them',\n",
       " 'themselves',\n",
       " 'then',\n",
       " 'there',\n",
       " 'these',\n",
       " 'they',\n",
       " 'this',\n",
       " 'those',\n",
       " 'through',\n",
       " 'to',\n",
       " 'too',\n",
       " 'under',\n",
       " 'until',\n",
       " 'up',\n",
       " 've',\n",
       " 'very',\n",
       " 'was',\n",
       " 'wasn',\n",
       " \"wasn't\",\n",
       " 'we',\n",
       " 'were',\n",
       " 'weren',\n",
       " \"weren't\",\n",
       " 'what',\n",
       " 'when',\n",
       " 'where',\n",
       " 'which',\n",
       " 'while',\n",
       " 'who',\n",
       " 'whom',\n",
       " 'why',\n",
       " 'will',\n",
       " 'with',\n",
       " 'won',\n",
       " \"won't\",\n",
       " 'wouldn',\n",
       " \"wouldn't\",\n",
       " 'y',\n",
       " 'you',\n",
       " \"you'd\",\n",
       " \"you'll\",\n",
       " \"you're\",\n",
       " \"you've\",\n",
       " 'your',\n",
       " 'yours',\n",
       " 'yourself',\n",
       " 'yourselves'}"
      ]
     },
     "execution_count": 31,
     "metadata": {},
     "output_type": "execute_result"
    }
   ],
   "source": [
    "stop_words"
   ]
  },
  {
   "cell_type": "code",
   "execution_count": 32,
   "id": "06303a86",
   "metadata": {},
   "outputs": [],
   "source": [
    "# get the contents related to \"good_news\" and \"bad_news\"\n",
    "good_news_contents = df.contents[df.good_news==1].str.cat(sep=' ')  #cat: joining with a separator\n",
    "bad_news_contents = df.contents[df.bad_news==1].str.cat(sep=' ')\n",
    "\n",
    "good_indicators = get_word_freq(good_news_contents, stop_words, num_words = 20)\n",
    "bad_indicators = get_word_freq(bad_news_contents, stop_words, num_words = 20)"
   ]
  },
  {
   "cell_type": "code",
   "execution_count": 33,
   "id": "27bec23d",
   "metadata": {
    "scrolled": true
   },
   "outputs": [
    {
     "data": {
      "text/plain": [
       "['euro',\n",
       " 'financial',\n",
       " 'policy',\n",
       " 'monetary',\n",
       " 'area',\n",
       " 'de',\n",
       " 'economic',\n",
       " 'market',\n",
       " 'central',\n",
       " 'also',\n",
       " 'stability',\n",
       " 'ecb',\n",
       " 'inflation',\n",
       " 'banks',\n",
       " 'european',\n",
       " 'der',\n",
       " 'die',\n",
       " 'price',\n",
       " 'would',\n",
       " 'growth']"
      ]
     },
     "execution_count": 33,
     "metadata": {},
     "output_type": "execute_result"
    }
   ],
   "source": [
    "good_indicators"
   ]
  },
  {
   "cell_type": "code",
   "execution_count": 34,
   "id": "ef815897",
   "metadata": {
    "scrolled": true
   },
   "outputs": [
    {
     "data": {
      "text/plain": [
       "['euro',\n",
       " 'financial',\n",
       " 'policy',\n",
       " 'monetary',\n",
       " 'area',\n",
       " 'market',\n",
       " 'de',\n",
       " 'central',\n",
       " 'economic',\n",
       " 'banks',\n",
       " 'also',\n",
       " 'stability',\n",
       " 'european',\n",
       " 'would',\n",
       " 'ecb',\n",
       " 'growth',\n",
       " 'price',\n",
       " 'inflation',\n",
       " 'bank',\n",
       " 'la']"
      ]
     },
     "execution_count": 34,
     "metadata": {},
     "output_type": "execute_result"
    }
   ],
   "source": [
    "bad_indicators"
   ]
  },
  {
   "cell_type": "markdown",
   "id": "ba0c0371",
   "metadata": {},
   "source": [
    "##### use write() to write these into a csv file"
   ]
  },
  {
   "cell_type": "code",
   "execution_count": 13,
   "id": "866b735b",
   "metadata": {},
   "outputs": [
    {
     "data": {
      "text/plain": [
       "'C:\\\\Users\\\\juhyu\\\\OneDrive\\\\바탕 화면\\\\JH\\\\SIM\\\\Year2\\\\Programming for data science\\\\Practice Assignment 06\\\\Practice Assignment 06'"
      ]
     },
     "execution_count": 13,
     "metadata": {},
     "output_type": "execute_result"
    }
   ],
   "source": [
    "import os\n",
    "os.getcwd() #checking directory to write in csv files"
   ]
  },
  {
   "cell_type": "code",
   "execution_count": 14,
   "id": "0a877797",
   "metadata": {},
   "outputs": [],
   "source": [
    "import csv"
   ]
  },
  {
   "cell_type": "code",
   "execution_count": 46,
   "id": "5b0c565e",
   "metadata": {},
   "outputs": [],
   "source": [
    "#if the file exists, remove the file\n",
    "try:\n",
    "    os.remove('good_indicators_file.csv')\n",
    "except OSError:\n",
    "        pass"
   ]
  },
  {
   "cell_type": "code",
   "execution_count": 52,
   "id": "f84101b1",
   "metadata": {},
   "outputs": [],
   "source": [
    "#open the file in the write mode\n",
    "f=open('good_indicators_file.csv','w',encoding='UTF-8')\n",
    "\n",
    "#create the csv writer \n",
    "writer=csv.writer(f)\n",
    "\n",
    "#write good_indicators into the csv file\n",
    "for word in good_indicators:\n",
    "    f.write(word)"
   ]
  },
  {
   "cell_type": "code",
   "execution_count": 53,
   "id": "5a2bbc00",
   "metadata": {},
   "outputs": [],
   "source": [
    "f.close()"
   ]
  },
  {
   "cell_type": "code",
   "execution_count": 54,
   "id": "5536b1de",
   "metadata": {},
   "outputs": [],
   "source": [
    "#if the file exists, remove the file\n",
    "try:\n",
    "    os.remove('bad_indicators_file.csv')\n",
    "except OSError:\n",
    "        pass"
   ]
  },
  {
   "cell_type": "code",
   "execution_count": 55,
   "id": "c914e588",
   "metadata": {},
   "outputs": [],
   "source": [
    "#open the file in the write mode\n",
    "ff=open('bad_indicators_file.csv','w',encoding='UTF-8')\n",
    "\n",
    "#create the csv writer \n",
    "writer_b=csv.writer(ff)\n",
    "\n",
    "#write bad_indicators into the csv file\n",
    "for word in bad_indicators:\n",
    "    ff.write(word)"
   ]
  },
  {
   "cell_type": "code",
   "execution_count": 56,
   "id": "43596535",
   "metadata": {},
   "outputs": [],
   "source": [
    "ff.close()"
   ]
  },
  {
   "cell_type": "markdown",
   "id": "8130ac25",
   "metadata": {},
   "source": [
    "Note that many terms appear in both, and the results are not the same as R. It may because the `word_tokenizer()` in R may not work the same way as `split()` with `strip()`."
   ]
  },
  {
   "cell_type": "markdown",
   "id": "a87988e2",
   "metadata": {},
   "source": [
    "#### Any observations from the common words found above?"
   ]
  },
  {
   "cell_type": "code",
   "execution_count": 57,
   "id": "cf620726",
   "metadata": {},
   "outputs": [
    {
     "name": "stdout",
     "output_type": "stream",
     "text": [
      "common words are: ['euro', 'financial', 'policy', 'monetary', 'area', 'de', 'economic', 'market', 'central', 'also', 'stability', 'ecb', 'inflation', 'banks', 'european', 'price', 'would', 'growth']\n"
     ]
    }
   ],
   "source": [
    "common_words=[]\n",
    "for g in good_indicators:\n",
    "    if g in bad_indicators:\n",
    "        common_words.append(g)\n",
    "        \n",
    "print('common words are:',common_words)"
   ]
  },
  {
   "cell_type": "markdown",
   "id": "fd4c7a9e",
   "metadata": {},
   "source": [
    "Observation: \n",
    "It seems that common words from good and bad indicators are the neutral words that are less likely to indicate good or bad situations."
   ]
  }
